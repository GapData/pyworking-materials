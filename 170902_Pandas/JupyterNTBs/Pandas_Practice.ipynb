{
 "cells": [
  {
   "cell_type": "markdown",
   "metadata": {
    "collapsed": true
   },
   "source": [
    "# Practice: Data Analysis from start to end"
   ]
  },
  {
   "cell_type": "markdown",
   "metadata": {},
   "source": [
    "Ideally and normally, process of **ad-hoc descriptive data analysis** would take **2-10 days**, based on the complexity of datasets and requirements. \n",
    "\n",
    "**Single, clean and small dataset** is easy and fast to analyze. Typical example of simple and fast analysis is **revenue/costs/profit analysis** for a given timeframe based on very few database tables. This process can be automatized well for further use.\n",
    "\n",
    "**Complex analysis** consist of **combining internal and external datasets** and take longer. External datasets (downloaded from governement pages, through company API, bought from third parties, scraping given webpages) tend to be quite messy. Sometimes external datasets need to be created from scratch.\n",
    "\n",
    "We will use single simple and relatively clean dataset to make the analysis doable in an afternoon timespan. But it is important to note, that **even this minimal data analysis example follows the same process and logic** as a project of larger scale. \n",
    "\n",
    "So let's get down to business!"
   ]
  },
  {
   "cell_type": "markdown",
   "metadata": {},
   "source": [
    "###  0. Request from management, specification"
   ]
  },
  {
   "cell_type": "markdown",
   "metadata": {
    "collapsed": true
   },
   "source": [
    "Imagine you are working at a marketing company as a business analyst that takes care of internal databases, creates reports for management and automatizes the boring stuff. At 17:15 Wednesday afternoon you get a following email:\n",
    "\n",
    "\"\n",
    "Ahoj Pišta,\n",
    "\n",
    "Narazil som na zaujímavý dataset a chcem aby si sa na to pozrel a pripravil mi k tomu krátky report. Poznáš Kickstarter? Je to v podstate crowfundingová webovka, kde si môže hocikto zadať zbierku na svoj projekt a keď sa mu zbierka podarí, tak projekt realizuje. Je to teraz celkom moderné a to je vlastne dôvod prečo chcem aby si sa na to bližšie pozrel. Tu je tá webová stránka: www.kickstarter.com Funguje to teda hlavne v Amerike, ale prístup je tam globálny.\n",
    "\n",
    "Zaujíma ma hlavne ci to vyuzivaju aj nejake spolocnosti alebo len sukromne osoby, ci to niektori vyuziju aj viac krat ako raz a pritom su v kampani uspesni. Samozrejme ma zaujima, ake typy produktov sa takto predavaju, respektive z akeho odvetvia (zabava, priemysel, volny cas, kultura, hudba atd.). Proste nejaka segmentacia trhu a uspesnost kampane na zaklade tejto segmentacie. Napada ta nieco dalsie co by z toho datasetu slo vycitat? \n",
    "Chcem vediet, ci mozeme kickstarter odporucat aj nasim klientom pre ich nove produkty a kto je vlastne ta cielova skupina, ktora bude v crowdfundingu na kickstarteri uspesna. Ak tam nejake produkty chybaju z nejakeho odvetvia chybaju, tak je to podla mna jasny signal, ze kickstarter nie je pre nich. A ak sa tam nejake budu opakovat, tak je to signalom, ze je potrebne na tieto produkty hladat alternativne zdroje propagacie a financovania.\n",
    "\n",
    "Myslis ze by si mi stihol pripravit nieco do pondelka do piatku?\n",
    "\n",
    "Diky\n",
    "\n",
    "Filip\n",
    "\"\n",
    "\n",
    "But what do you do?\n",
    "\n",
    "You reply:\n",
    "\n",
    "Hi Filip,\n",
    "\n",
    "thanks for the dataset, I just quickly went through it and it looks like a job for pandas!\n",
    "Will talk to you about it tommorow morning.\n",
    "\n",
    "Bye\n",
    "Pista"
   ]
  },
  {
   "cell_type": "markdown",
   "metadata": {},
   "source": [
    "###  1. Draft of desired solution and outcomes"
   ]
  },
  {
   "cell_type": "code",
   "execution_count": null,
   "metadata": {
    "collapsed": true
   },
   "outputs": [],
   "source": []
  },
  {
   "cell_type": "markdown",
   "metadata": {},
   "source": [
    "### 2. Exploratory Data Analysis"
   ]
  },
  {
   "cell_type": "code",
   "execution_count": null,
   "metadata": {
    "collapsed": true
   },
   "outputs": [],
   "source": []
  },
  {
   "cell_type": "markdown",
   "metadata": {},
   "source": [
    "### 3. Data Cleaning"
   ]
  },
  {
   "cell_type": "code",
   "execution_count": null,
   "metadata": {
    "collapsed": true
   },
   "outputs": [],
   "source": []
  },
  {
   "cell_type": "markdown",
   "metadata": {},
   "source": [
    "### 4. Clean Data Processing"
   ]
  },
  {
   "cell_type": "code",
   "execution_count": null,
   "metadata": {
    "collapsed": true
   },
   "outputs": [],
   "source": []
  },
  {
   "cell_type": "markdown",
   "metadata": {},
   "source": [
    "### 5. Results visualisation"
   ]
  },
  {
   "cell_type": "code",
   "execution_count": null,
   "metadata": {
    "collapsed": true
   },
   "outputs": [],
   "source": []
  },
  {
   "cell_type": "markdown",
   "metadata": {},
   "source": [
    "### 6. Saving results, rerunning script, script cleaning"
   ]
  },
  {
   "cell_type": "code",
   "execution_count": null,
   "metadata": {
    "collapsed": true
   },
   "outputs": [],
   "source": []
  },
  {
   "cell_type": "markdown",
   "metadata": {},
   "source": [
    "### 7. Final Report for Management"
   ]
  },
  {
   "cell_type": "code",
   "execution_count": null,
   "metadata": {
    "collapsed": true
   },
   "outputs": [],
   "source": []
  }
 ],
 "metadata": {
  "kernelspec": {
   "display_name": "Python 3",
   "language": "python",
   "name": "python3"
  },
  "language_info": {
   "codemirror_mode": {
    "name": "ipython",
    "version": 3
   },
   "file_extension": ".py",
   "mimetype": "text/x-python",
   "name": "python",
   "nbconvert_exporter": "python",
   "pygments_lexer": "ipython3",
   "version": "3.6.0"
  }
 },
 "nbformat": 4,
 "nbformat_minor": 2
}
