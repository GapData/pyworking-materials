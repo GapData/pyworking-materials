{
 "cells": [
  {
   "cell_type": "markdown",
   "metadata": {},
   "source": [
    "# Běžný den v práci s pandas\n",
    "\n",
    "Cílem jednodenního workshopu je vyzkoušet si, jak může vypadat běžný den datové analytičky v praxi (v komerčním prostředí). Používat budeme zejména python knihovnu pandas, ale nevyhneme se ani základním dotazům v SQL, jelikož je to pořád běžnější jazyk pro práci s daty ve firmách (není nutná znalost SQL).\n",
    "\n",
    "Workshop je prakticky zaměřen, což znamená, že teoretické seznámení s knihovnou pandas je velmi krátké, až minimalistické.\n",
    "Hlavní část workshopu tvoří praktická část - vypracování fiktivního úkolu v pandas. Na tomto úkolu si procvičíme důležité fuknce z pandas pro čtení, čištění, vizualizaci (pro prezentaci) a zapisování dat do nových souborů i do databází.\n",
    "Na tomto úkolu si ukážeme, co by měl datový analytik pro svou práci vědět a čím může svůj management překvapit.\n",
    "\n",
    "**Seznámení a motivace**\n",
    "- kdo jsme, co děláme a kam smeřujeme\n",
    "- pro koho je kurz určen\n",
    "- datová analýza obecně\n",
    "- kdo mě zaměstná?\n",
    "- příprava python prostředí\n",
    "\n",
    "## Co si odsud odnesu:\n",
    "\n",
    "**Teoretická část**\n",
    "- Co je to analýza dat?\n",
    "- Kdo je datový analytik a co by měl umět?\n",
    "- Proč python a pandas?\n",
    "- Porovnání python pandas s SQL a R.\n",
    "- Základní funkce v pandas.\n",
    "- Proces analýzy dat od začátku do konce na ukázkovém datasetu.\n",
    "\n",
    "**Praktická část: Proces analýzy dat od začátku do konce**\n",
    "- Zadání, specifikace úkolu managmentem \n",
    "- Návrh řešení úkolu na nečisto\n",
    "- Exploratory Data Analysis\n",
    "- Čištění dat\n",
    "- Zpracování čistých dat\n",
    "- Vizualizace čistých dat\n",
    "- Uložení výsledků a úprava skriptu pro další použití\n",
    "- Tvorba reportu pro management\n",
    "\n",
    "**Závěr**\n",
    "- Shrnutí\n",
    "- Dotazy\n",
    "- Kde se nechat zaměstnat\n",
    "- Chci vědět víc\n",
    "\n",
    "**Předpoklady:**\n",
    "Počítač s nainstalovaným python 3, jupyter (ipython notebook) a pandas. (Jak nainstalovat ipython jupyter notebook: http://jupyter.readthedocs.io/en/latest/install.html#installing-jupyter-using-anaconda-and-conda Nebo pomoci pip install jupyter)\n",
    "\n",
    "**Poznámka:**\n",
    "Workshop bude veden v slovenštině/češtině, všechny skripty budou napsány v angličtině. Data do workshopu budou z oblasti otevřených dat a svou logikou budou simulovat skutečné data z praxe."
   ]
  }
 ],
 "metadata": {
  "kernelspec": {
   "display_name": "Python 3",
   "language": "python",
   "name": "python3"
  },
  "language_info": {
   "codemirror_mode": {
    "name": "ipython",
    "version": 3
   },
   "file_extension": ".py",
   "mimetype": "text/x-python",
   "name": "python",
   "nbconvert_exporter": "python",
   "pygments_lexer": "ipython3",
   "version": "3.6.0"
  }
 },
 "nbformat": 4,
 "nbformat_minor": 2
}
