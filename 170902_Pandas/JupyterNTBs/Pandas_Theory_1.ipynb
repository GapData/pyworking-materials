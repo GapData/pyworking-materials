{
 "cells": [
  {
   "cell_type": "markdown",
   "metadata": {
    "collapsed": true
   },
   "source": [
    "# Theory\n",
    "Just a little bit before we get into datasets and code :)"
   ]
  },
  {
   "cell_type": "markdown",
   "metadata": {},
   "source": [
    "### What is data analysis?\n",
    "\n",
    "Data analysis, also known as analysis of data or data analytics, is a process of inspecting, cleansing, transforming, and modeling data with the goal of discovering useful information, suggesting conclusions, and supporting decision-making. \n",
    "\n",
    "Source: https://en.wikipedia.org/wiki/Data_analysis\n",
    "\n",
    "**Also** a great entry point into data science, data engineering, programming, etc."
   ]
  },
  {
   "cell_type": "markdown",
   "metadata": {},
   "source": [
    "### Who is a data analyst and what should she know?\n",
    "\n",
    "Data analyst is a person that knows a way around various datasets. Data analyst knows how to use **Excel, Python/R, SQL** to work with data and has **basic knowledge of statistics**.\n",
    "\n",
    "**Data analyst common tasks:**\n",
    "- Interpret data, analyze results using statistical techniques and provide ongoing reports\n",
    "- Develop and implement databases, data collection systems, data analytics and other strategies that optimize statistical efficiency and quality\n",
    "- Acquire data from primary or secondary data sources and maintain databases/data systems\n",
    "- Identify, analyze, and interpret trends or patterns in complex data sets\n",
    "- Filter and “clean” data by reviewing computer reports, printouts, and performance indicators to locate and correct code problems\n",
    "- Work with management to prioritize business and information needs\n",
    "- Locate and define new process improvement opportunities"
   ]
  },
  {
   "cell_type": "markdown",
   "metadata": {},
   "source": [
    "### Why python and pandas?\n",
    "- general programming language\n",
    "- best python data manipulation library out there\n",
    "- open source, huge community support, great documentation"
   ]
  },
  {
   "cell_type": "markdown",
   "metadata": {},
   "source": [
    "### Comparison of python pandas vs SQL and R.\n",
    "- SQL is single purpose, data needs to be in one place\n",
    "- python pandas allows the same as SQL + visualization + better cleaning and function definitions + machine learning + statistical analysis\n",
    "- R is towards statistics and research, while python towards programming and business/technology"
   ]
  }
 ],
 "metadata": {
  "kernelspec": {
   "display_name": "Python 3",
   "language": "python",
   "name": "python3"
  },
  "language_info": {
   "codemirror_mode": {
    "name": "ipython",
    "version": 3
   },
   "file_extension": ".py",
   "mimetype": "text/x-python",
   "name": "python",
   "nbconvert_exporter": "python",
   "pygments_lexer": "ipython3",
   "version": "3.6.0"
  }
 },
 "nbformat": 4,
 "nbformat_minor": 2
}
