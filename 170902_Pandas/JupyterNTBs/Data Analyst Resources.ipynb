{
 "cells": [
  {
   "cell_type": "markdown",
   "metadata": {},
   "source": [
    "## Resources to use\n",
    "- <a href=\"https://www.kaggle.com/\" target=\"_blank\">Kaggle</a> Data Science competitions platform. Great to read blogs, forums and look at scripts of other people.\n",
    "- <a href=\"https://www.coursera.org/learn/analytics-mysql\" target=\"_blank\">Coursera MySQL Course</a> Get into SQL quickly in one month.\n",
    "- <a href=\"https://www.coursera.org/learn/analytics-tableau\" target=\"_blank\">Coursera Tableau Course</a> Get into visualisation BI tool quickly in one month.\n",
    "- <a href=\"https://www.edx.org/course/introduction-computational-thinking-data-mitx-6-00-2x-5\" target=\"_blank\">MIT Data Science with Python at EdX</a> Opens once a year, for the rest of year it is available as self-paced, meaning without deadlines on assignments and without the possibility to earn a certificate.\n",
    "- <a href=\"https://www.udacity.com/course/data-analyst-nanodegree--nd002\" target=\"_blank\">Udacity Data Analyst Nanodegree</a> Paid, but very good. Employer will pay it for you as your training :)\n",
    "- <a href=\"https://stackoverflow.com/questions/tagged/pandas\" target=\"_blank\">Stackoverflow pandas</a> Ask anything or try to answer.\n",
    "- <a href=\"https://www.youtube.com/user/PyDataTV\" target=\"_blank\">Youtube PyData Talks</a> PyData talks from all over the world."
   ]
  }
 ],
 "metadata": {
  "kernelspec": {
   "display_name": "Python 3",
   "language": "python",
   "name": "python3"
  },
  "language_info": {
   "codemirror_mode": {
    "name": "ipython",
    "version": 3
   },
   "file_extension": ".py",
   "mimetype": "text/x-python",
   "name": "python",
   "nbconvert_exporter": "python",
   "pygments_lexer": "ipython3",
   "version": "3.6.0"
  }
 },
 "nbformat": 4,
 "nbformat_minor": 2
}
