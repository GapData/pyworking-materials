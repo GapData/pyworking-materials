{
 "cells": [
  {
   "cell_type": "markdown",
   "metadata": {},
   "source": [
    "## Pracovní pozice:\n",
    "Data analyst, Data scientist, Database architect, Database admin, Big Data engineer, QA developer, Business Analyst, Business Intelligence developer\n",
    "\n",
    "**Obecně:**\n",
    "- Finanční instituce: Banky, Pojišťovny, Poradenství a konzultantské společnosti\n",
    "- Technologické firmy, Startupy\n",
    "- Zdravotnické instituce\n",
    "- Ecommerce, eshopy\n",
    "- Telco\n",
    "- Počítačové hry\n",
    "- Výzkum"
   ]
  },
  {
   "cell_type": "markdown",
   "metadata": {},
   "source": [
    "**Entry level = 3 klíčové znalosti:**\n",
    "- SQL, Python or R, Vizualizace (alespoň jednu z nich dobře) \n",
    "\n",
    "Business Analytik, mall.cz\n",
    "http://mall.jobs.cz/marketing/?id=G2-1223908421-aden_brand0\n",
    "\n",
    "Data Analyst internship, London Theatre:\n",
    "https://www.proudly.cz/pracovni-nabidky/10258/data-analytics-internship-praha-london-theatre-direct?utm_source=Indeed&utm_medium=organic&utm_campaign=Indeed\n",
    "\n",
    "Data Analyst, O2:\n",
    "https://cz.indeed.com/viewjob?jk=1cfbcf24e7768c9b&q=Data+Analyst&l=Praha&tk=1bof1bibp9md4bae&from=web\n",
    "\n",
    "Data Analyst, Chytrý Honza:\n",
    "https://www.rockawaycapital.com/en/vacancy/junior-data-analyst/?vacancy_category=product\n",
    "\n",
    "Business Intelligence Analyst, CSOB:\n",
    "http://csob.jobs.cz/detail/?id=G2-1225369752-aden_brand0&rps=186\n",
    "\n",
    "Data Scientist, Accenture:\n",
    "http://accenture.jobs.cz/pd/1162050467/?rps=233&oldPd=1\n",
    "\n",
    "Data Analyst, StartupJobs:\n",
    "https://www.startupjobs.cz/nabidky/23/analyst\n",
    "\n",
    "... (mraky pozic)"
   ]
  },
  {
   "cell_type": "markdown",
   "metadata": {},
   "source": [
    "**Mid level = zvládnutí základů + programování, cloud, statistika, prediktivní analytika, Git, ETL**\n",
    "\n",
    "BI Data Developer, mall.cz:\n",
    "http://mall.jobs.cz/it/?id=G2-1223722585-aden_brand0\n",
    "\n",
    "Datový specialista, CSOB: \n",
    "http://csob.jobs.cz/detail/?id=G2-1204615348-aden_brand0&rps=186\n",
    "\n",
    "Data Scientist, Moneta:\n",
    "http://moneta.jobs.cz/detail/?id=G2-1223924599-aden_brand0&rps=233#fms=1\n",
    "\n",
    "Big Data Engineer, Wargaming:\n",
    "http://wargaming.com/en/careers/big-data-engineer-prague/\n",
    "\n",
    "QA analyst, Wargaming:\n",
    "http://hays.jobs.cz/detail/?id=G2-1210077207-aden_brand0&rps=233\n",
    "\n",
    "Data Scientist, EW:\n",
    "http://eurowag.jobs.cz/detail-cs/?id=G2-1201843864-aden_brand0&rps=233\n",
    "\n",
    "Data Analyst, MSD:\n",
    "https://jobs.msd.com/MSD/job/Prague-BusinessData-Analyst-Job/423766800/?feedId=180500&utm_source=Indeed&utm_campaign=MSD_Indeed\n",
    "\n",
    "... (mraky pozic)\n"
   ]
  },
  {
   "cell_type": "markdown",
   "metadata": {},
   "source": [
    "\n",
    "**Senior level = mid level + prax, Linux, Big Data, Matematické modely**\n",
    "\n",
    "Data Scientist, Honeywell:\n",
    "http://honeywell.jobs.cz/pd/1225627948/?rps=233&oldPd=1\n",
    "\n",
    "\n",
    "... (mraky pozic)"
   ]
  }
 ],
 "metadata": {
  "kernelspec": {
   "display_name": "Python 3",
   "language": "python",
   "name": "python3"
  },
  "language_info": {
   "codemirror_mode": {
    "name": "ipython",
    "version": 3
   },
   "file_extension": ".py",
   "mimetype": "text/x-python",
   "name": "python",
   "nbconvert_exporter": "python",
   "pygments_lexer": "ipython3",
   "version": "3.6.0"
  }
 },
 "nbformat": 4,
 "nbformat_minor": 2
}
